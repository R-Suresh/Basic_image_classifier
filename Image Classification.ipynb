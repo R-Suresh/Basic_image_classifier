{
 "cells": [
  {
   "cell_type": "code",
   "execution_count": 2,
   "metadata": {},
   "outputs": [],
   "source": [
    "#Build a model that takes human images and then classisifes them according to the emotion detected"
   ]
  },
  {
   "cell_type": "code",
   "execution_count": 3,
   "metadata": {},
   "outputs": [
    {
     "name": "stderr",
     "output_type": "stream",
     "text": [
      "Using TensorFlow backend.\n"
     ]
    }
   ],
   "source": [
    "from __future__ import print_function\n",
    "import numpy as np\n",
    "import matplotlib.pyplot as plt\n",
    "%matplotlib inline\n",
    "import keras\n",
    "from keras.utils import to_categorical\n",
    "import os\n",
    "from keras.preprocessing.image import ImageDataGenerator, load_img"
   ]
  },
  {
   "cell_type": "code",
   "execution_count": 4,
   "metadata": {},
   "outputs": [],
   "source": [
    "from keras.applications import VGG16\n",
    "\n",
    "vgg_conv = VGG16(weights='imagenet',\n",
    "                  include_top=False,\n",
    "                  input_shape=(224, 224, 3))"
   ]
  },
  {
   "cell_type": "code",
   "execution_count": 5,
   "metadata": {},
   "outputs": [
    {
     "name": "stdout",
     "output_type": "stream",
     "text": [
      "_________________________________________________________________\n",
      "Layer (type)                 Output Shape              Param #   \n",
      "=================================================================\n",
      "input_1 (InputLayer)         (None, 224, 224, 3)       0         \n",
      "_________________________________________________________________\n",
      "block1_conv1 (Conv2D)        (None, 224, 224, 64)      1792      \n",
      "_________________________________________________________________\n",
      "block1_conv2 (Conv2D)        (None, 224, 224, 64)      36928     \n",
      "_________________________________________________________________\n",
      "block1_pool (MaxPooling2D)   (None, 112, 112, 64)      0         \n",
      "_________________________________________________________________\n",
      "block2_conv1 (Conv2D)        (None, 112, 112, 128)     73856     \n",
      "_________________________________________________________________\n",
      "block2_conv2 (Conv2D)        (None, 112, 112, 128)     147584    \n",
      "_________________________________________________________________\n",
      "block2_pool (MaxPooling2D)   (None, 56, 56, 128)       0         \n",
      "_________________________________________________________________\n",
      "block3_conv1 (Conv2D)        (None, 56, 56, 256)       295168    \n",
      "_________________________________________________________________\n",
      "block3_conv2 (Conv2D)        (None, 56, 56, 256)       590080    \n",
      "_________________________________________________________________\n",
      "block3_conv3 (Conv2D)        (None, 56, 56, 256)       590080    \n",
      "_________________________________________________________________\n",
      "block3_pool (MaxPooling2D)   (None, 28, 28, 256)       0         \n",
      "_________________________________________________________________\n",
      "block4_conv1 (Conv2D)        (None, 28, 28, 512)       1180160   \n",
      "_________________________________________________________________\n",
      "block4_conv2 (Conv2D)        (None, 28, 28, 512)       2359808   \n",
      "_________________________________________________________________\n",
      "block4_conv3 (Conv2D)        (None, 28, 28, 512)       2359808   \n",
      "_________________________________________________________________\n",
      "block4_pool (MaxPooling2D)   (None, 14, 14, 512)       0         \n",
      "_________________________________________________________________\n",
      "block5_conv1 (Conv2D)        (None, 14, 14, 512)       2359808   \n",
      "_________________________________________________________________\n",
      "block5_conv2 (Conv2D)        (None, 14, 14, 512)       2359808   \n",
      "_________________________________________________________________\n",
      "block5_conv3 (Conv2D)        (None, 14, 14, 512)       2359808   \n",
      "_________________________________________________________________\n",
      "block5_pool (MaxPooling2D)   (None, 7, 7, 512)         0         \n",
      "=================================================================\n",
      "Total params: 14,714,688\n",
      "Trainable params: 14,714,688\n",
      "Non-trainable params: 0\n",
      "_________________________________________________________________\n"
     ]
    }
   ],
   "source": [
    "vgg_conv.summary()"
   ]
  },
  {
   "cell_type": "markdown",
   "metadata": {},
   "source": [
    "train_dir = './clean-dataset/train'\n",
    "validation_dir = './clean-dataset/validation'\n",
    "\n",
    "nTrain = 1040 \n",
    "nVal = "
   ]
  },
  {
   "cell_type": "code",
   "execution_count": 6,
   "metadata": {},
   "outputs": [],
   "source": [
    "train_dir = 'C:/Users/RAHUL/Downloads/images/train'\n",
    "validation_dir = 'C:/Users/RAHUL/Downloads/images/test'\n",
    "\n",
    "nTrain = 1560 #260 x 6\n",
    "nVal = 180 #30 x 6"
   ]
  },
  {
   "cell_type": "code",
   "execution_count": 7,
   "metadata": {},
   "outputs": [
    {
     "name": "stdout",
     "output_type": "stream",
     "text": [
      "Found 1560 images belonging to 6 classes.\n"
     ]
    }
   ],
   "source": [
    "datagen = ImageDataGenerator(rescale=1./255)\n",
    "batch_size = 20\n",
    "\n",
    "train_features = np.zeros(shape=(nTrain, 7, 7, 512))\n",
    "train_labels = np.zeros(shape=(nTrain,6))\n",
    "#I HAVE 6 classes now\n",
    "\n",
    "train_generator = datagen.flow_from_directory(\n",
    "    train_dir,\n",
    "    target_size=(224, 224),\n",
    "    batch_size=batch_size,\n",
    "    class_mode='categorical',\n",
    "    shuffle=True)\n",
    "\n",
    "i = 0\n",
    "for inputs_batch, labels_batch in train_generator:\n",
    "    features_batch = vgg_conv.predict(inputs_batch)\n",
    "    train_features[i * batch_size : (i + 1) * batch_size] = features_batch\n",
    "    train_labels[i * batch_size : (i + 1) * batch_size] = labels_batch\n",
    "    i += 1\n",
    "    if i * batch_size >= nTrain:\n",
    "        break\n",
    "        \n",
    "train_features = np.reshape(train_features, (nTrain, 7 * 7 * 512))"
   ]
  },
  {
   "cell_type": "code",
   "execution_count": 8,
   "metadata": {},
   "outputs": [
    {
     "name": "stdout",
     "output_type": "stream",
     "text": [
      "Found 240 images belonging to 6 classes.\n"
     ]
    }
   ],
   "source": [
    "validation_features = np.zeros(shape=(nVal, 7, 7, 512))\n",
    "validation_labels = np.zeros(shape=(nVal,6))\n",
    "# 6 here as well\n",
    "\n",
    "validation_generator = datagen.flow_from_directory(\n",
    "    validation_dir,\n",
    "    target_size=(224, 224),\n",
    "    batch_size=batch_size,\n",
    "    class_mode='categorical',\n",
    "    shuffle=False)\n",
    "\n",
    "i = 0\n",
    "for inputs_batch, labels_batch in validation_generator:\n",
    "    features_batch = vgg_conv.predict(inputs_batch)\n",
    "    validation_features[i * batch_size : (i + 1) * batch_size] = features_batch\n",
    "    validation_labels[i * batch_size : (i + 1) * batch_size] = labels_batch\n",
    "    i += 1\n",
    "    if i * batch_size >= nVal:\n",
    "        break\n",
    "\n",
    "validation_features = np.reshape(validation_features, (nVal, 7 * 7 * 512))"
   ]
  },
  {
   "cell_type": "code",
   "execution_count": 10,
   "metadata": {},
   "outputs": [
    {
     "name": "stdout",
     "output_type": "stream",
     "text": [
      "Train on 1560 samples, validate on 180 samples\n",
      "Epoch 1/20\n",
      "1560/1560 [==============================] - 21s 14ms/step - loss: 2.1590 - acc: 0.2987 - val_loss: 1.4523 - val_acc: 0.4222\n",
      "Epoch 2/20\n",
      "1560/1560 [==============================] - 19s 12ms/step - loss: 1.4882 - acc: 0.4327 - val_loss: 1.4905 - val_acc: 0.4389\n",
      "Epoch 3/20\n",
      "1560/1560 [==============================] - 19s 12ms/step - loss: 1.3238 - acc: 0.5032 - val_loss: 1.6240 - val_acc: 0.3500\n",
      "Epoch 4/20\n",
      "1560/1560 [==============================] - 20s 13ms/step - loss: 1.1640 - acc: 0.5814 - val_loss: 1.6543 - val_acc: 0.3667\n",
      "Epoch 5/20\n",
      "1560/1560 [==============================] - 19s 12ms/step - loss: 1.0073 - acc: 0.6353 - val_loss: 1.3989 - val_acc: 0.4889\n",
      "Epoch 6/20\n",
      "1560/1560 [==============================] - 20s 13ms/step - loss: 0.8823 - acc: 0.6782 - val_loss: 1.6952 - val_acc: 0.4556\n",
      "Epoch 7/20\n",
      "1560/1560 [==============================] - 20s 13ms/step - loss: 0.7961 - acc: 0.7090 - val_loss: 1.4739 - val_acc: 0.4444\n",
      "Epoch 8/20\n",
      "1560/1560 [==============================] - 20s 13ms/step - loss: 0.6691 - acc: 0.7500 - val_loss: 1.6260 - val_acc: 0.3944\n",
      "Epoch 9/20\n",
      "1560/1560 [==============================] - 20s 13ms/step - loss: 0.6132 - acc: 0.7872 - val_loss: 1.5539 - val_acc: 0.4333\n",
      "Epoch 10/20\n",
      "1560/1560 [==============================] - 20s 13ms/step - loss: 0.5414 - acc: 0.8026 - val_loss: 1.8617 - val_acc: 0.4389\n",
      "Epoch 11/20\n",
      "1560/1560 [==============================] - 20s 13ms/step - loss: 0.4800 - acc: 0.8301 - val_loss: 1.9989 - val_acc: 0.3389\n",
      "Epoch 12/20\n",
      "1560/1560 [==============================] - 20s 13ms/step - loss: 0.3839 - acc: 0.8647 - val_loss: 1.7809 - val_acc: 0.4556\n",
      "Epoch 13/20\n",
      "1560/1560 [==============================] - 20s 13ms/step - loss: 0.3287 - acc: 0.8865 - val_loss: 1.8032 - val_acc: 0.4556\n",
      "Epoch 14/20\n",
      "1560/1560 [==============================] - 19s 12ms/step - loss: 0.2979 - acc: 0.8987 - val_loss: 1.9188 - val_acc: 0.4167\n",
      "Epoch 15/20\n",
      "1560/1560 [==============================] - 19s 12ms/step - loss: 0.2459 - acc: 0.9154 - val_loss: 2.1285 - val_acc: 0.4833\n",
      "Epoch 16/20\n",
      "1560/1560 [==============================] - 19s 12ms/step - loss: 0.2429 - acc: 0.9179 - val_loss: 2.1732 - val_acc: 0.4167\n",
      "Epoch 17/20\n",
      "1560/1560 [==============================] - 20s 13ms/step - loss: 0.2237 - acc: 0.9250 - val_loss: 2.2826 - val_acc: 0.4222\n",
      "Epoch 18/20\n",
      "1560/1560 [==============================] - 19s 12ms/step - loss: 0.1649 - acc: 0.9468 - val_loss: 2.2891 - val_acc: 0.4389\n",
      "Epoch 19/20\n",
      "1560/1560 [==============================] - 19s 12ms/step - loss: 0.1537 - acc: 0.9564 - val_loss: 2.7096 - val_acc: 0.3722\n",
      "Epoch 20/20\n",
      "1560/1560 [==============================] - 21s 13ms/step - loss: 0.1520 - acc: 0.9481 - val_loss: 2.2456 - val_acc: 0.4722\n"
     ]
    }
   ],
   "source": [
    "from keras import models\n",
    "from keras import layers\n",
    "from keras import optimizers\n",
    "\n",
    "model = models.Sequential()\n",
    "model.add(layers.Dense(512, activation='relu', input_dim=7 * 7 * 512))\n",
    "model.add(layers.Dropout(0.5))\n",
    "model.add(layers.Dense(6, activation='softmax'))\n",
    "\n",
    "model.compile(optimizer=optimizers.RMSprop(lr=2e-4),\n",
    "              loss='categorical_crossentropy',\n",
    "              metrics=['acc'])\n",
    "\n",
    "history = model.fit(train_features,\n",
    "                    train_labels,\n",
    "                    epochs=20,\n",
    "                    batch_size=batch_size,\n",
    "                    validation_data=(validation_features,validation_labels))"
   ]
  },
  {
   "cell_type": "code",
   "execution_count": 14,
   "metadata": {},
   "outputs": [],
   "source": [
    "save_path='C:/Users/RAHUL/Downloads'"
   ]
  },
  {
   "cell_type": "code",
   "execution_count": 21,
   "metadata": {},
   "outputs": [],
   "source": [
    "model.save(save_path + \"final_model.hdf5\")\n",
    "#Its not saving the model -> have to sort out that problem"
   ]
  },
  {
   "cell_type": "code",
   "execution_count": null,
   "metadata": {},
   "outputs": [],
   "source": []
  }
 ],
 "metadata": {
  "kernelspec": {
   "display_name": "Python 3",
   "language": "python",
   "name": "python3"
  },
  "language_info": {
   "codemirror_mode": {
    "name": "ipython",
    "version": 3
   },
   "file_extension": ".py",
   "mimetype": "text/x-python",
   "name": "python",
   "nbconvert_exporter": "python",
   "pygments_lexer": "ipython3",
   "version": "3.6.6"
  }
 },
 "nbformat": 4,
 "nbformat_minor": 2
}
